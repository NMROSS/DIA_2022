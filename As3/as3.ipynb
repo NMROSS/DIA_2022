{
 "cells": [
  {
   "cell_type": "markdown",
   "metadata": {},
   "source": [
    "Nicholas Ross - Exercise 3"
   ]
  },
  {
   "cell_type": "code",
   "execution_count": 18,
   "metadata": {},
   "outputs": [],
   "source": [
    "import os\n",
    "import numpy as np\n",
    "from PIL import Image\n",
    "import pandas as pd\n",
    "from scipy.spatial import distance\n",
    "from sklearn.neighbors import KNeighborsClassifier\n",
    "\n",
    "\n",
    "def load_dataset(image_path):\n",
    "    dataset = {\n",
    "        'label' : [],\n",
    "        'image' : []\n",
    "    }\n",
    "\n",
    "    for dir in os.listdir(image_path):\n",
    "        if dir not in '.DS_Store':\n",
    "                class_path = os.path.join(image_path, dir)\n",
    "                for image in os.listdir(class_path):\n",
    "                    dataset['image'].append(np.array(Image.open(os.path.join(image_path, dir , image))))\n",
    "                    dataset['label'].append(int(dir))\n",
    "                    \n",
    "    return pd.DataFrame(dataset)\n",
    "\n",
    "test_set = load_dataset('files/MNIST/MNIST/test')\n",
    "train_set = load_dataset('files/MNIST/MNIST/train')"
   ]
  },
  {
   "cell_type": "code",
   "execution_count": 17,
   "metadata": {},
   "outputs": [],
   "source": [
    "# feature splits image into 16 tiles then calculates ratio of black to white pixel in each grid tile\n",
    "def black_ratio(img):\n",
    "    image_tile = []\n",
    "\n",
    "    # create list of grid tiles\n",
    "    for i in range(0,4):\n",
    "        for j in range(0,4):\n",
    "            image_tile.append(img[i * 7:(i+1) * 7, j * 7:(j+1) * 7])\n",
    "\n",
    "    feature_ratio = []\n",
    "    for i in range(len(image_tile)):\n",
    "        # Count number of non  zero pixels(Black)\n",
    "        feature_ratio.append(np.count_nonzero(np.asarray(image_tile)[i])/28)\n",
    "    return np.asarray(feature_ratio)\n",
    "\n",
    "def histogram_pixels(img):\n",
    "    # count number of pixel not black from both horizontal and Vericale and combine into one feature vector\n",
    "    return  np.concatenate( (np.count_nonzero(img, axis=1), np.count_nonzero(img, axis=0)), axis=0 )"
   ]
  },
  {
   "cell_type": "markdown",
   "metadata": {},
   "source": [
    "Two features\n",
    "\n",
    "Black_ratio: Images are divided into a grid of 16 boxes (7x7 pixels) each grid box I calculated the number of non black pixels and calculated the ratio of black to no black in each grid (each box being a feature in the vector)\n",
    "\n",
    "Historgram_pixels: I calculated the number of non black pixels for the horizontal and vertical axis to form a two histograms the two feature vectors were combined. 28x28 image = 56 length feature vector\n"
   ]
  },
  {
   "cell_type": "code",
   "execution_count": 19,
   "metadata": {},
   "outputs": [],
   "source": [
    "# Create dataset with img vector transformed to new feature vector representation\n",
    "\n",
    "# test_set['image'] = test_set['image'].apply(lambda img : histogram_pixels(img))\n",
    "# train_set['image'] = train_set['image'].apply(lambda img : histogram_pixels(img))\n",
    "\n",
    "test_set['image'] = test_set['image'].apply(lambda img : black_ratio(img))\n",
    "train_set['image'] = train_set['image'].apply(lambda img : black_ratio(img))"
   ]
  },
  {
   "cell_type": "code",
   "execution_count": 20,
   "metadata": {},
   "outputs": [
    {
     "data": {
      "text/plain": [
       "0.6556"
      ]
     },
     "execution_count": 20,
     "metadata": {},
     "output_type": "execute_result"
    }
   ],
   "source": [
    "# calculate the mean vector for each class\n",
    "def build_model(x):\n",
    "    model = {}\n",
    "    for i in range(10):\n",
    "            model[i] = x[x['label']==i]['image'].mean()\n",
    "    return model\n",
    "\n",
    "# find the class based on the clossest mean vector\n",
    "def classify(x, model):\n",
    "    dists = np.zeros(10)\n",
    "    \n",
    "    for key in model:\n",
    "        dists[key] = distance.cosine(x, model[key])\n",
    "\n",
    "    # find the class with shortest distance to image \n",
    "    return dists.argmin()\n",
    "\n",
    "\n",
    "model = build_model(train_set)\n",
    "\n",
    "# compute distance to nearest class for each image\n",
    "predictions = test_set.apply(lambda x : classify(x['image'], model),axis =1 )\n",
    "\n",
    "# create datatable with column of predicted class another column contain the true Class\n",
    "mm = pd.concat([test_set['label'], predictions], axis=1)\n",
    "\n",
    "# evaluate weather the predicted and true class are equal. Returns accuaracy (Correct prediction / count(images))\n",
    "mm.apply(lambda x : 1 if x['label']==x[0] else 0, axis=1).sum()/(len(test_set))"
   ]
  },
  {
   "cell_type": "code",
   "execution_count": 21,
   "metadata": {},
   "outputs": [
    {
     "data": {
      "text/plain": [
       "0.8385"
      ]
     },
     "execution_count": 21,
     "metadata": {},
     "output_type": "execute_result"
    }
   ],
   "source": [
    "#sklearn KNN implenentation \n",
    "knn= KNeighborsClassifier(n_neighbors=5)\n",
    "knn.fit(np.vstack(train_set['image']),train_set['label'])\n",
    "knn.score(np.vstack(test_set['image']), test_set['label']) "
   ]
  }
 ],
 "metadata": {
  "interpreter": {
   "hash": "e7370f93d1d0cde622a1f8e1c04877d8463912d04d973331ad4851f04de6915a"
  },
  "kernelspec": {
   "display_name": "Python 3.10.2 64-bit",
   "language": "python",
   "name": "python3"
  },
  "language_info": {
   "codemirror_mode": {
    "name": "ipython",
    "version": 3
   },
   "file_extension": ".py",
   "mimetype": "text/x-python",
   "name": "python",
   "nbconvert_exporter": "python",
   "pygments_lexer": "ipython3",
   "version": "3.10.2"
  },
  "orig_nbformat": 4
 },
 "nbformat": 4,
 "nbformat_minor": 2
}
