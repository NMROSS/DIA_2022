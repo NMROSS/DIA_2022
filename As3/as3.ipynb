{
 "cells": [
  {
   "cell_type": "code",
   "execution_count": 60,
   "metadata": {},
   "outputs": [],
   "source": [
    "import os\n",
    "import numpy as np\n",
    "from PIL import Image\n",
    "import pandas as pd\n",
    "from scipy.spatial import distance\n",
    "from skimage.feature import hog\n",
    "from sklearn.neighbors import KNeighborsClassifier\n",
    "\n",
    "\n",
    "def load_dataset(image_path):\n",
    "    dataset = {\n",
    "        'label' : [],\n",
    "        'image' : []\n",
    "    }\n",
    "\n",
    "    for dir in os.listdir(image_path):\n",
    "        if dir not in '.DS_Store':\n",
    "                #print(dir)\n",
    "                class_path = os.path.join(image_path, dir)\n",
    "                for image in os.listdir(class_path):\n",
    "                    dataset['image'].append(np.array(Image.open(os.path.join(image_path, dir , image))))\n",
    "                    dataset['label'].append(int(dir))\n",
    "                    \n",
    "    return pd.DataFrame(dataset)\n",
    "\n",
    "val_set = load_dataset('files/MNIST/MNIST/val')\n",
    "train_set = load_dataset('files/MNIST/MNIST/train')"
   ]
  },
  {
   "cell_type": "code",
   "execution_count": 61,
   "metadata": {},
   "outputs": [],
   "source": [
    "val_set['image'] = val_set['image'].apply(lambda img : hog(img, orientations=8, feature_vector=True))\n",
    "train_set['image'] = train_set['image'].apply(lambda img : hog(img, orientations=8, feature_vector=True))"
   ]
  },
  {
   "cell_type": "code",
   "execution_count": 62,
   "metadata": {},
   "outputs": [
    {
     "data": {
      "text/plain": [
       "0.8518333333333333"
      ]
     },
     "execution_count": 62,
     "metadata": {},
     "output_type": "execute_result"
    }
   ],
   "source": [
    "\n",
    "def build_model(x):\n",
    "    model = {}\n",
    "    for i in range(10):\n",
    "    #    model[i] = x[x['label']==i]['image'].apply(lambda x: x.sum(axis=0)).mean(axis=0) # calculate mean vector of all image in class\n",
    "        model[i] = x[x['label']==i]['image'].mean()\n",
    "    return model\n",
    "\n",
    "def classify(x, model):\n",
    "    dists = np.zeros(10)\n",
    "    \n",
    "    for key in model:\n",
    "        dists[key] = distance.cosine(x, model[key])\n",
    "\n",
    "    return dists.argmin()\n",
    "\n",
    "\n",
    "model = build_model(train_set)\n",
    "#classify(val_set['image'].iloc[1020].sum(axis=0), model)\n",
    "# predictions = val_set.apply(lambda x : classify(x['image'].sum(axis=0), model),axis =1 )\n",
    "predictions = val_set.apply(lambda x : classify(x['image'], model),axis =1 )\n",
    "\n",
    "mm = pd.concat([val_set['label'], predictions], axis=1)\n",
    "mm.apply(lambda x : 1 if x['label']==x[0] else 0, axis=1).sum()/(len(val_set))"
   ]
  },
  {
   "cell_type": "code",
   "execution_count": 55,
   "metadata": {},
   "outputs": [
    {
     "data": {
      "text/plain": [
       "0.8255833333333333"
      ]
     },
     "execution_count": 55,
     "metadata": {},
     "output_type": "execute_result"
    }
   ],
   "source": [
    "\n",
    "#sklearn KNN\n",
    "knn= KNeighborsClassifier(n_neighbors=3)\n",
    "knn.fit(np.vstack(train_set['image']),train_set['label'])\n",
    "knn.score(np.vstack(val_set['image']), val_set['label']) "
   ]
  },
  {
   "cell_type": "code",
   "execution_count": 58,
   "metadata": {},
   "outputs": [
    {
     "data": {
      "text/plain": [
       "(18,)"
      ]
     },
     "execution_count": 58,
     "metadata": {},
     "output_type": "execute_result"
    }
   ],
   "source": [
    "val_set['image'].iloc[0].shape"
   ]
  },
  {
   "cell_type": "code",
   "execution_count": null,
   "metadata": {},
   "outputs": [],
   "source": []
  }
 ],
 "metadata": {
  "interpreter": {
   "hash": "e7370f93d1d0cde622a1f8e1c04877d8463912d04d973331ad4851f04de6915a"
  },
  "kernelspec": {
   "display_name": "Python 3.10.2 64-bit",
   "language": "python",
   "name": "python3"
  },
  "language_info": {
   "codemirror_mode": {
    "name": "ipython",
    "version": 3
   },
   "file_extension": ".py",
   "mimetype": "text/x-python",
   "name": "python",
   "nbconvert_exporter": "python",
   "pygments_lexer": "ipython3",
   "version": "3.10.2"
  },
  "orig_nbformat": 4
 },
 "nbformat": 4,
 "nbformat_minor": 2
}
